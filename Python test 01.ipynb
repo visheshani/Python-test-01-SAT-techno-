{
 "cells": [
  {
   "cell_type": "code",
   "execution_count": 5,
   "metadata": {},
   "outputs": [
    {
     "name": "stdout",
     "output_type": "stream",
     "text": [
      "10\n",
      "20\n",
      "Sum = 30\n"
     ]
    }
   ],
   "source": [
    "a = int(input())\n",
    "b = int(input())\n",
    "if a == b:\n",
    "    a*=2\n",
    "else:\n",
    "    a+=b\n",
    "print(\"Sum =\",a)"
   ]
  },
  {
   "cell_type": "code",
   "execution_count": 8,
   "metadata": {},
   "outputs": [
    {
     "name": "stdout",
     "output_type": "stream",
     "text": [
      "Bob\n",
      "\"Hello Bob!\"\n"
     ]
    }
   ],
   "source": [
    "s = input()\n",
    "greet= \"\\\"Hello {}!\\\"\".format(s)\n",
    "print(greet)"
   ]
  },
  {
   "cell_type": "code",
   "execution_count": 4,
   "metadata": {},
   "outputs": [
    {
     "name": "stdout",
     "output_type": "stream",
     "text": [
      "[3, 1, 2]\n"
     ]
    }
   ],
   "source": [
    "l = [2,1,3]\n",
    "print(l[::-1])"
   ]
  },
  {
   "cell_type": "code",
   "execution_count": null,
   "metadata": {},
   "outputs": [
    {
     "name": "stdout",
     "output_type": "stream",
     "text": [
      "Enter first number: \n",
      "10\n",
      "You can add up to 10 numbers\n",
      "Choose operation from below and press enter.\n",
      "+ , - , * , /\n",
      "+\n",
      "20\n",
      "Ans= 30\n",
      "Choose operation from below and press enter.\n",
      "+ , - , * , /\n",
      "-\n",
      "10\n",
      "Ans= 20\n",
      "Choose operation from below and press enter.\n",
      "+ , - , * , /\n",
      "/\n",
      "5\n",
      "Ans= 4.0\n",
      "Choose operation from below and press enter.\n",
      "+ , - , * , /\n",
      "*\n",
      "3\n",
      "Ans= 12.0\n",
      "Choose operation from below and press enter.\n",
      "+ , - , * , /\n"
     ]
    }
   ],
   "source": [
    "print(\"Enter first number: \")\n",
    "a = int(input())\n",
    "print(\"You can add up to 10 numbers\")\n",
    "for value in range(1,11):\n",
    "    print('''Choose operation from below and press enter.\n",
    "+ , - , * , /''')\n",
    "    opr = input()\n",
    "    if ord(opr)==43:\n",
    "        b = int(input())\n",
    "        a+=b\n",
    "        \n",
    "    elif ord(opr)==45:\n",
    "        b = int(input())\n",
    "        a-=b\n",
    "       \n",
    "    elif ord(opr)==42:\n",
    "        b = int(input())\n",
    "        a*=b\n",
    "    \n",
    "    elif ord(opr)==47:\n",
    "        b = int(input())\n",
    "        a/=b\n",
    "    \n",
    "    else:\n",
    "        pass\n",
    "    print(\"Ans=\",a)"
   ]
  },
  {
   "cell_type": "code",
   "execution_count": 1,
   "metadata": {},
   "outputs": [
    {
     "name": "stdout",
     "output_type": "stream",
     "text": [
      "25100\n",
      "Notes of Rs. 2000 are: 12\n",
      "Notes of Rs. 500 are: 2\n",
      "Notes of Rs. 100 are: 1\n",
      "No. of total notes required in given amount are 15\n"
     ]
    }
   ],
   "source": [
    "amt = int(input())\n",
    "total=0\n",
    "if amt >= 2000:\n",
    "    num = amt // 2000\n",
    "    print(\"Notes of Rs. 2000 are:\",num)\n",
    "    total+=num\n",
    "    amt = amt % 2000\n",
    "if amt >= 500:\n",
    "    num = amt // 500\n",
    "    print(\"Notes of Rs. 500 are:\",num)\n",
    "    total+=num\n",
    "    amt = amt % 500\n",
    "\n",
    "if amt >= 100:\n",
    "    num = amt // 100\n",
    "    print(\"Notes of Rs. 100 are:\",num)\n",
    "    total+=num\n",
    "    amt = amt % 100\n",
    "if amt >= 50:\n",
    "    num = amt // 50\n",
    "    print(\"Notes of Rs. 50 are:\",num)\n",
    "    total+=num\n",
    "    amt = amt % 50\n",
    "\n",
    "if amt >= 20:\n",
    "    num = amt // 20\n",
    "    print(\"Notes of Rs. 20 are:\",num)\n",
    "    total+=num\n",
    "    amt = amt % 20\n",
    "\n",
    "if amt >= 10:\n",
    "    num = amt // 10\n",
    "    print(\"Notes of Rs. 10 are:\",num)\n",
    "    total+=num\n",
    "    amt = amt % 10\n",
    "print(\"No. of total notes required in given amount are\",total)"
   ]
  }
 ],
 "metadata": {
  "kernelspec": {
   "display_name": "Python 3",
   "language": "python",
   "name": "python3"
  },
  "language_info": {
   "codemirror_mode": {
    "name": "ipython",
    "version": 3
   },
   "file_extension": ".py",
   "mimetype": "text/x-python",
   "name": "python",
   "nbconvert_exporter": "python",
   "pygments_lexer": "ipython3",
   "version": "3.7.5"
  }
 },
 "nbformat": 4,
 "nbformat_minor": 4
}
